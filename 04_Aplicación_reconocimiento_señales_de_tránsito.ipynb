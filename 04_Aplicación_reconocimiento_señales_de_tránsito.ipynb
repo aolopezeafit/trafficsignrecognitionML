{
  "nbformat": 4,
  "nbformat_minor": 0,
  "metadata": {
    "colab": {
      "provenance": [],
      "authorship_tag": "ABX9TyORLz0JDU7UgMHw500PESEs",
      "include_colab_link": true
    },
    "kernelspec": {
      "name": "python3",
      "display_name": "Python 3"
    },
    "language_info": {
      "name": "python"
    }
  },
  "cells": [
    {
      "cell_type": "markdown",
      "metadata": {
        "id": "view-in-github",
        "colab_type": "text"
      },
      "source": [
        "<a href=\"https://colab.research.google.com/github/aorlandolopezudea/trafficsignrecognitionML/blob/main/04_Aplicaci%C3%B3n_reconocimiento_se%C3%B1ales_de_tr%C3%A1nsito.ipynb\" target=\"_parent\"><img src=\"https://colab.research.google.com/assets/colab-badge.svg\" alt=\"Open In Colab\"/></a>"
      ]
    },
    {
      "cell_type": "markdown",
      "source": [
        "# **04 - Aplicación reconocimiento señales de tránsito**\n",
        "\n",
        "En este notebook se aplicarán los modelos para la detección y reconocimiento de las señales de tránsito."
      ],
      "metadata": {
        "id": "Tun2UsT859nu"
      }
    }
  ]
}